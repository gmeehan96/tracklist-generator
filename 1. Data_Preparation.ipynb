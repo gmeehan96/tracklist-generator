{
 "cells": [
  {
   "cell_type": "markdown",
   "metadata": {},
   "source": [
    "# Tracklist Generator: Data Preparation\n",
    "This notebook contains the code for the data processing of the 1001Tracklists dataset. We will take tracklist data and dictionaries containing co-occurrence information for songs and artists, and produce filtered sparse matrices to be used in recommendation models. We will also use this information to generate users based on tracklist artists. \n",
    "\n",
    "There are three key types of entity in this notebook and going forward:\n",
    "- **Songs**: Referred to as 'Artist Name - Song Title' (e.g. \"FISHER - Losing It\"), these represent a single song which appears in a tracklist.\n",
    "- **Artists**: Referred to by the Artist name (e.g. \"FISHER\"), these represent the artists who have produced or remixed a song which appears in a tracklist.\n",
    "- **Users**: There is no user information directly contained in the 1001Tracklists dataset. However, each tracklist has a DJ associated with it, who curated/mixed the songs the tracklist contains. We will use this information to create 'users' that will be part of the recommendation system; this will be explained in more detail below. Users will be referred to by the DJ's name (e.g. \"Annie Mac\"). "
   ]
  },
  {
   "cell_type": "code",
   "execution_count": 1,
   "metadata": {},
   "outputs": [],
   "source": [
    "import numpy as np\n",
    "import pandas as pd\n",
    "import tensorflow as tf\n",
    "from scipy.sparse import csr_matrix\n",
    "import math\n",
    "\n",
    "import random\n",
    "from typing import Tuple\n",
    "import pickle\n",
    "import matplotlib.pyplot as plt"
   ]
  },
  {
   "cell_type": "markdown",
   "metadata": {},
   "source": [
    "## Inputs\n",
    "The data originally scraped from 1001Tracklists contained 83,808 tracklists. The tracklists are stored in a pickled dictionary containing the songs, the date, and the DJ for each tracklist. Metadata about each song, including the title, associated artists, and remix/mashup information, is stored in a separate pickled dictionary.\n",
    "\n",
    "The tracklists were used to generate weighted co-occurrence matrices between songs, between artists, and between songs and artists. Once the co-occurrence matrices were generated, we filtered the data to remove songs which occur rarely, setting a threshold on the total information (i.e. the sum of the row in the co-occurrence matrix) for a song in the song-song co-occurrence matrix. This leaves us with 31,214 songs by 10,322 artists. We store the three co-occurrence matrices (song-song, song-artist, and artist-artist) as pickled dictionaries."
   ]
  },
  {
   "cell_type": "markdown",
   "metadata": {},
   "source": [
    "First we import the dictionary containing the tracklists and convert to a DataFrame:"
   ]
  },
  {
   "cell_type": "code",
   "execution_count": 2,
   "metadata": {},
   "outputs": [
    {
     "name": "stdout",
     "output_type": "stream",
     "text": [
      "Index(['Date', 'Tracks', 'Artists'], dtype='object')\n"
     ]
    },
    {
     "data": {
      "text/html": [
       "<div>\n",
       "<style scoped>\n",
       "    .dataframe tbody tr th:only-of-type {\n",
       "        vertical-align: middle;\n",
       "    }\n",
       "\n",
       "    .dataframe tbody tr th {\n",
       "        vertical-align: top;\n",
       "    }\n",
       "\n",
       "    .dataframe thead th {\n",
       "        text-align: right;\n",
       "    }\n",
       "</style>\n",
       "<table border=\"1\" class=\"dataframe\">\n",
       "  <thead>\n",
       "    <tr style=\"text-align: right;\">\n",
       "      <th></th>\n",
       "      <th>Date</th>\n",
       "      <th>Tracks</th>\n",
       "      <th>Artists</th>\n",
       "    </tr>\n",
       "  </thead>\n",
       "  <tbody>\n",
       "    <tr>\n",
       "      <th>0</th>\n",
       "      <td>2020-02-23</td>\n",
       "      <td>[John Legend vs. David Guetta - Conversations ...</td>\n",
       "      <td>[David Guetta]</td>\n",
       "    </tr>\n",
       "    <tr>\n",
       "      <th>1</th>\n",
       "      <td>2018-01-24</td>\n",
       "      <td>[ID - ID, Eelke Kleijn ft. Therese - Shed My S...</td>\n",
       "      <td>[SOURCE RECORDINGS (SPINNIN')]</td>\n",
       "    </tr>\n",
       "    <tr>\n",
       "      <th>2</th>\n",
       "      <td>2019-10-07</td>\n",
       "      <td>[Party Pupils &amp; Louis Futon ft. Tobi - One Two...</td>\n",
       "      <td>[Will Sparks]</td>\n",
       "    </tr>\n",
       "    <tr>\n",
       "      <th>3</th>\n",
       "      <td>2020-03-20</td>\n",
       "      <td>[J Paul Getto - Tribute To Paul Johnson, AMTRA...</td>\n",
       "      <td>[Dieselboy]</td>\n",
       "    </tr>\n",
       "    <tr>\n",
       "      <th>4</th>\n",
       "      <td>2017-08-06</td>\n",
       "      <td>[Martin Garrix - Ultra Miami 2017 Intro, Marti...</td>\n",
       "      <td>[Martin Garrix]</td>\n",
       "    </tr>\n",
       "  </tbody>\n",
       "</table>\n",
       "</div>"
      ],
      "text/plain": [
       "         Date                                             Tracks  \\\n",
       "0  2020-02-23  [John Legend vs. David Guetta - Conversations ...   \n",
       "1  2018-01-24  [ID - ID, Eelke Kleijn ft. Therese - Shed My S...   \n",
       "2  2019-10-07  [Party Pupils & Louis Futon ft. Tobi - One Two...   \n",
       "3  2020-03-20  [J Paul Getto - Tribute To Paul Johnson, AMTRA...   \n",
       "4  2017-08-06  [Martin Garrix - Ultra Miami 2017 Intro, Marti...   \n",
       "\n",
       "                          Artists  \n",
       "0                  [David Guetta]  \n",
       "1  [SOURCE RECORDINGS (SPINNIN')]  \n",
       "2                   [Will Sparks]  \n",
       "3                     [Dieselboy]  \n",
       "4                 [Martin Garrix]  "
      ]
     },
     "execution_count": 2,
     "metadata": {},
     "output_type": "execute_result"
    }
   ],
   "source": [
    "with open('tls_2021_processed.pkl','rb') as f:\n",
    "    tracklists_dict = pickle.load(f)\n",
    "\n",
    "tracklists = pd.DataFrame(tracklists_dict).T\n",
    "    \n",
    "print(tracklists.columns)\n",
    "tracklists.head()"
   ]
  },
  {
   "cell_type": "markdown",
   "metadata": {},
   "source": [
    "We also import the co-occurrence dictionaries and the song metadata dictionary:"
   ]
  },
  {
   "cell_type": "code",
   "execution_count": 3,
   "metadata": {},
   "outputs": [],
   "source": [
    "with open('song_song_co_2021.pkl','rb') as f:\n",
    "    song_song_co_dict = pickle.load(f)\n",
    "    \n",
    "with open('song_artist_co_2021.pkl','rb') as f:\n",
    "    song_artist_co_dict = pickle.load(f)\n",
    "\n",
    "with open('artist_artist_co_2021.pkl','rb') as f:\n",
    "    artist_artist_co_dict = pickle.load(f)\n",
    "    "
   ]
  },
  {
   "cell_type": "code",
   "execution_count": 4,
   "metadata": {},
   "outputs": [],
   "source": [
    "with open('tracks_dict_2021.pkl','rb') as f:\n",
    "    tracks_dict = pickle.load(f)"
   ]
  },
  {
   "cell_type": "markdown",
   "metadata": {},
   "source": [
    "## User Generation\n",
    "In this section we use tracklist information to generate 'users' from DJs in the dataset. We will use the tracklists associated with a DJ to create a 'click matrix' indicating the taste of each DJ based on the songs they choose to play.\n",
    "\n",
    "We first extract a sorted list containing all song titles from the song-song co-occurrence dictionary\n",
    "and create a set of these song titles. We then use this set to filter each tracklist to the songs in our population."
   ]
  },
  {
   "cell_type": "code",
   "execution_count": 5,
   "metadata": {},
   "outputs": [],
   "source": [
    "song_lst = sorted(list(song_song_co_dict))\n",
    "song_set = set(song_lst)"
   ]
  },
  {
   "cell_type": "code",
   "execution_count": 6,
   "metadata": {},
   "outputs": [],
   "source": [
    "tracklists['Filtered'] = tracklists['Tracks'].apply(lambda x: [y for y in x if y in song_set])"
   ]
  },
  {
   "cell_type": "markdown",
   "metadata": {},
   "source": [
    "We now gather the songs that each DJ has played into a dictionary."
   ]
  },
  {
   "cell_type": "code",
   "execution_count": 7,
   "metadata": {},
   "outputs": [],
   "source": [
    "tl_user_song_dict = {}\n",
    "for i in range(tracklists.shape[0]):\n",
    "    row = tracklists.iloc[i,:]\n",
    "    for user in row[2]:\n",
    "        if user in tl_user_song_dict:\n",
    "            tl_user_song_dict[user]+=row['Filtered'].copy()\n",
    "        else:\n",
    "            tl_user_song_dict[user]=row['Filtered'].copy()"
   ]
  },
  {
   "cell_type": "markdown",
   "metadata": {},
   "source": [
    "There is some noise in this dataset because two DJs can sometimes be associated with the same tracklist even though they are not collaborating on a mix. For example, some BBC radio shows have two DJs who each provide separate hour-long guest mixes on a two-hour show. The two-hour show is then uploaded to 1001Tracklists as a single tracklist with multiple associated DJs. \n",
    "\n",
    "To lower the risk of associating DJs with songs they possibly did not play, we will only consider songs which a DJ has been associated with more than once. We take the log of the number of times the songs appear for that DJ to act as a preference score, and store this final selection in a new dictionary."
   ]
  },
  {
   "cell_type": "code",
   "execution_count": 8,
   "metadata": {},
   "outputs": [],
   "source": [
    "def get_repeated(lst):\n",
    "    cnts = pd.Series(lst,dtype = object).value_counts()\n",
    "    return cnts[cnts>1].apply(np.log)\n",
    "\n",
    "user_selection = {}\n",
    "for user in tl_user_song_dict:\n",
    "    user_selection[user] = get_repeated(tl_user_song_dict[user])"
   ]
  },
  {
   "cell_type": "markdown",
   "metadata": {},
   "source": [
    "Below are several examples of the top 20 associated songs by preference score for a DJ."
   ]
  },
  {
   "cell_type": "code",
   "execution_count": 9,
   "metadata": {
    "scrolled": true
   },
   "outputs": [
    {
     "data": {
      "text/plain": [
       "FISHER - Losing It                                                        3.367296\n",
       "FISHER - You Little Beauty                                                3.332205\n",
       "FISHER - Stop It                                                          3.044522\n",
       "FISHER - Wanna Go Dancin'                                                 2.944439\n",
       "FISHER - Freaks                                                           2.890372\n",
       "FISHER - Ya Kidding                                                       2.833213\n",
       "Martin Ikin - Hooked                                                      2.639057\n",
       "Josh Wink & Lil' Louis - How's Your Evening So Far? (Chris Lake Remix)    2.564949\n",
       "Volkoder & Sam Supplier - Tornado                                         2.484907\n",
       "Deeper Purpose - Elevate                                                  2.397895\n",
       "Little Fritter - Cha Cha                                                  2.079442\n",
       "FISHER - We FKN Love It                                                   1.945910\n",
       "James Pepper - Stampede (Of The Elephants)                                1.945910\n",
       "Love Regenerator - Peace Love Happiness                                   1.945910\n",
       "FISHER - Crowd Control                                                    1.945910\n",
       "Big Miz - Passing Place                                                   1.945910\n",
       "HYYTS - Bullet (Paul Woolford Remix)                                      1.791759\n",
       "FISHER - Ya Didn't                                                        1.791759\n",
       "Spencer Brown & Raito - Star Allies                                       1.609438\n",
       "Fourword - Snake Charmer                                                  1.386294\n",
       "dtype: float64"
      ]
     },
     "execution_count": 9,
     "metadata": {},
     "output_type": "execute_result"
    }
   ],
   "source": [
    "user_selection['FISHER'].iloc[:20]"
   ]
  },
  {
   "cell_type": "code",
   "execution_count": 10,
   "metadata": {
    "scrolled": true
   },
   "outputs": [
    {
     "data": {
      "text/plain": [
       "The White Stripes - Seven Nation Army                                                  3.688879\n",
       "GTA - Saria's Turn Up                                                                  3.465736\n",
       "Steve Aoki & Diplo & Deorro ft. Steve Bays - Freak                                     3.332205\n",
       "Diplo & Wax Motif - Love To The World                                                  3.258097\n",
       "Diplo & Sleepy Tom - Be Right There                                                    3.218876\n",
       "Paul Woolford & Diplo ft. Kareen Lomax - Looking For Me                                3.218876\n",
       "Major Lazer & DJ Snake ft. MØ - Lean On                                                3.178054\n",
       "Calvin Harris ft. Rihanna - This Is What You Came For (Gammer Edit)                    3.135494\n",
       "Major Lazer ft. Busy Signal & The Flexican & FS Green - Watch Out For This (Bumaye)    3.135494\n",
       "Diplo & Sonny Fodera - Turn Back Time                                                  3.135494\n",
       "TNGHT - Higher Ground                                                                  3.091042\n",
       "Jaded - Sosa                                                                           3.091042\n",
       "DJ Fresh & Diplo ft. Dominique Young Unique - Earthquake                               3.091042\n",
       "Jack Ü ft. Justin Bieber - Where Are Ü Now                                           3.044522\n",
       "Dillon Francis ft. BabyJake - You Do You                                               3.044522\n",
       "Ayo & Teo Song - Rolex (Party Favor Edit)                                              3.044522\n",
       "Kölsch & Tiga - HAL                                                                   2.995732\n",
       "Diplo & SIDEPIECE - On My Mind                                                         2.995732\n",
       "Diplo - Hold You Tight                                                                 2.944439\n",
       "4B & Aazar - Pop Dat                                                                   2.944439\n",
       "dtype: float64"
      ]
     },
     "execution_count": 10,
     "metadata": {},
     "output_type": "execute_result"
    }
   ],
   "source": [
    "user_selection['Diplo'].iloc[:20]"
   ]
  },
  {
   "cell_type": "code",
   "execution_count": 11,
   "metadata": {
    "scrolled": true
   },
   "outputs": [
    {
     "data": {
      "text/plain": [
       "HI-LO - Renegade Mastah                                               4.234107\n",
       "Oliver Heldens & Lenno - This Groove                                  3.912023\n",
       "Oliver Heldens & Sidney Samson - Riverside 2099                       3.806662\n",
       "Oliver Heldens & Becky Hill - Gecko (Overdrive)                       3.737670\n",
       "Calvin Harris & Dua Lipa - One Kiss (Oliver Heldens Remix)            3.713572\n",
       "Riton & Oliver Heldens ft. Vula - Turn Me On                          3.663562\n",
       "Chic - Le Freak (Oliver Heldens Remix)                                3.583519\n",
       "HI-LO & Sander van Doorn - WTF                                        3.526361\n",
       "HI-LO - Men On Mars                                                   3.433987\n",
       "Oliver Heldens - King Kong (HI-LO Touch)                              3.332205\n",
       "Oliver Heldens & Firebeatz & Schella ft. Carla Monroe - Lift Me Up    3.295837\n",
       "HI-LO & ALOK - Alien Technology                                       3.295837\n",
       "Oliver Heldens ft. Shungudzo - Fire In My Soul                        3.258097\n",
       "Oliver Heldens - Take A Chance                                        3.258097\n",
       "Armin van Buuren vs. Human Resource - Dominator (Tom Staar Remix)     3.218876\n",
       "Oliver Heldens - Ibiza 77 (Can You Feel It)                           3.178054\n",
       "HI-LO - The Answer (Oliver Heldens Edit)                              3.135494\n",
       "The Temper Trap - Sweet Disposition (Axwell & Dirty South Remix)      3.135494\n",
       "Oliver Heldens ft. Rowetta - Rave Machine                             3.091042\n",
       "Oliver Heldens & Throttle - Waiting                                   3.044522\n",
       "dtype: float64"
      ]
     },
     "execution_count": 11,
     "metadata": {},
     "output_type": "execute_result"
    }
   ],
   "source": [
    "user_selection['Oliver Heldens'].iloc[:20]"
   ]
  },
  {
   "cell_type": "markdown",
   "metadata": {},
   "source": [
    "To get our final user population, we filter out DJs which have a small number of songs associated with them. We set this threshold so that a DJ must have over 15 associated songs, leaving us with a total population of 1,275 users. Rather than storing song titles, we save the indices of each song from the sorted list for each user, as well as the preference scores for those songs, and save to a pickled dictionary."
   ]
  },
  {
   "cell_type": "code",
   "execution_count": 12,
   "metadata": {},
   "outputs": [],
   "source": [
    "user_selection_full = {}\n",
    "for user in user_selection:\n",
    "    selection = user_selection[user]\n",
    "    songs = list(selection.index)\n",
    "    if len(songs)>15:\n",
    "        user_selection_full[user] = {}\n",
    "        user_selection_full[user]['Songs'] = [song_lst.index(song) for song in songs]\n",
    "        user_selection_full[user]['Scores'] = selection.values.tolist()"
   ]
  },
  {
   "cell_type": "code",
   "execution_count": 13,
   "metadata": {},
   "outputs": [
    {
     "data": {
      "text/plain": [
       "1275"
      ]
     },
     "execution_count": 13,
     "metadata": {},
     "output_type": "execute_result"
    }
   ],
   "source": [
    "len(user_selection_full)"
   ]
  },
  {
   "cell_type": "code",
   "execution_count": 14,
   "metadata": {},
   "outputs": [],
   "source": [
    "with open('user_song_dict_2021.pkl','wb') as f:\n",
    "    pickle.dump(user_selection_full,f)"
   ]
  },
  {
   "cell_type": "markdown",
   "metadata": {},
   "source": [
    "Finally, we will take a sample of 1,000 (user, song) pairs to use as a holdout set in future model evaluation. These pairs will be removed from the final population, which is then pickled again to a separate training dictionary."
   ]
  },
  {
   "cell_type": "code",
   "execution_count": 15,
   "metadata": {},
   "outputs": [],
   "source": [
    "user_selection_inds = {}\n",
    "for user in user_selection_full:\n",
    "    user_selection_inds[user] = user_selection_full[user]['Songs']\n",
    "    \n",
    "user_lst = sorted(list(user_selection_full))"
   ]
  },
  {
   "cell_type": "code",
   "execution_count": 16,
   "metadata": {},
   "outputs": [],
   "source": [
    "x_inds = []\n",
    "y_inds = []\n",
    "for i,user in enumerate(user_lst):\n",
    "    user_selection = user_selection_inds[user]\n",
    "    x_inds += [i]*len(user_selection)\n",
    "    y_inds += user_selection\n",
    "\n",
    "x_inds = np.array(x_inds)\n",
    "y_inds = np.array(y_inds)"
   ]
  },
  {
   "cell_type": "markdown",
   "metadata": {},
   "source": [
    "We take the sample and save the results for future use, before removing the validation pairs from our dictionary and saving this new version to a dictionary that will be used in training."
   ]
  },
  {
   "cell_type": "code",
   "execution_count": 17,
   "metadata": {},
   "outputs": [],
   "source": [
    "vad_set_size = 1000\n",
    "vad_inds = random.sample(range(len(x_inds)),vad_set_size)\n",
    "\n",
    "x_inds_vad,y_inds_vad = x_inds[vad_inds],y_inds[vad_inds]\n",
    "\n",
    "with open('user_song_vad_inds.pkl','wb') as f:\n",
    "    pickle.dump((x_inds_vad,y_inds_vad),f)"
   ]
  },
  {
   "cell_type": "code",
   "execution_count": 18,
   "metadata": {},
   "outputs": [],
   "source": [
    "for j in range(1000):\n",
    "    vad_user = user_lst[x_inds_vad[j]]\n",
    "    vad_song_ind = y_inds_vad[j]\n",
    "    \n",
    "    vad_song_user_ind = user_selection_full[vad_user]['Songs'].index(vad_song_ind)\n",
    "    del user_selection_full[vad_user]['Songs'][vad_song_user_ind]\n",
    "    del user_selection_full[vad_user]['Scores'][vad_song_user_ind]"
   ]
  },
  {
   "cell_type": "code",
   "execution_count": 19,
   "metadata": {},
   "outputs": [],
   "source": [
    "with open('user_song_dict_2021_training.pkl','wb') as f:\n",
    "    pickle.dump(user_selection_full,f)"
   ]
  },
  {
   "cell_type": "markdown",
   "metadata": {},
   "source": [
    "## Sparse Matrix Creation"
   ]
  },
  {
   "cell_type": "markdown",
   "metadata": {},
   "source": [
    "### Songs and Artists\n",
    "We will now use the co-occurrence dictionaries to create sparse co-occurrence matrices that will be converted to SparseTensors for use in the recommendation models.\n",
    "\n",
    "First we create a sorted list of artist names, and create dictionary maps of song/artist names to indices for easy use later."
   ]
  },
  {
   "cell_type": "code",
   "execution_count": 20,
   "metadata": {},
   "outputs": [],
   "source": [
    "artist_lst = sorted(list(artist_artist_co_dict))"
   ]
  },
  {
   "cell_type": "code",
   "execution_count": 21,
   "metadata": {},
   "outputs": [],
   "source": [
    "song_ind_dict = {}\n",
    "for i,song in enumerate(song_lst):\n",
    "    song_ind_dict[song] = i\n",
    "    \n",
    "artist_ind_dict = {}\n",
    "for i,artist in enumerate(artist_lst):\n",
    "    artist_ind_dict[artist] = i"
   ]
  },
  {
   "cell_type": "markdown",
   "metadata": {},
   "source": [
    "Before we move on to the co-occurrence matrices, we will use the song metadata dictionary to create a sparse map which indicates for each song the artist(s) that produced/remixed it. Some artists will have different weights associated with a song (e.g. remix artists will have a higher weight than the original artists); these weights will be scaled so that the total of each row in the map sums to 1. The map will be created as a scipy sparse matrix and saved as a .pkl file."
   ]
  },
  {
   "cell_type": "code",
   "execution_count": 22,
   "metadata": {},
   "outputs": [],
   "source": [
    "song_artist_map_dict = {}\n",
    "row_sam = []\n",
    "col_sam = []\n",
    "data_sam = []\n",
    "\n",
    "for track in tracks_dict:\n",
    "    song_artist_map_dict[track] = {}\n",
    "    artist_weights = tracks_dict[track]['Artist weights']\n",
    "    total_weight = sum(artist_weights.values())\n",
    "    \n",
    "    song_ind = song_ind_dict[track]\n",
    "    for artist in artist_weights:\n",
    "        artist_ind = artist_ind_dict[artist]\n",
    "        val = artist_weights[artist]/total_weight\n",
    "        song_artist_map_dict[track][artist] = val\n",
    "        \n",
    "        row_sam.append(song_ind)\n",
    "        col_sam.append(artist_ind)\n",
    "        data_sam.append(val)\n",
    "        \n",
    "song_artist_map_sparse = csr_matrix((data_sam,(row_sam,col_sam)))\n",
    "\n",
    "with open('Sparse Matrices v2/song_artist_map_sparse.pkl','wb') as f:\n",
    "    pickle.dump(song_artist_map_sparse,f)"
   ]
  },
  {
   "cell_type": "markdown",
   "metadata": {},
   "source": [
    "We also create the transpose of this map for later use and store as a dictionary."
   ]
  },
  {
   "cell_type": "code",
   "execution_count": 23,
   "metadata": {},
   "outputs": [],
   "source": [
    "artist_song_map_dict = {}\n",
    "for artist in artist_lst:\n",
    "    artist_song_map_dict[artist] = {}\n",
    "    \n",
    "for song in song_artist_map_dict:\n",
    "    song_map = song_artist_map_dict[song]\n",
    "    for artist in song_map:\n",
    "        artist_song_map_dict[artist][song] = song_map[artist]"
   ]
  },
  {
   "cell_type": "markdown",
   "metadata": {},
   "source": [
    "We now create the song-song co-occurrence matrix. The song co-occurrence scores have a long-tailed distribution, particularly on popular songs which are played often. For example, the co-occurrence scores for the most played song in the dataset, \"FISHER - Losing It\", are distributed as follows:"
   ]
  },
  {
   "cell_type": "code",
   "execution_count": 24,
   "metadata": {},
   "outputs": [
    {
     "data": {
      "image/png": "[encoded data removed]",
      "text/plain": [
       "<Figure size 432x288 with 1 Axes>"
      ]
     },
     "metadata": {
      "needs_background": "light"
     },
     "output_type": "display_data"
    }
   ],
   "source": [
    "vals = song_song_co_dict['FISHER - Losing It'].values()\n",
    "total = sum(vals)\n",
    "sm = 0\n",
    "sms = []\n",
    "for i,val in enumerate(sorted(vals,reverse=True)):\n",
    "    sm += val\n",
    "    sms.append(sm)\n",
    "plt.plot(range(len(vals)),sorted(vals,reverse=True))\n",
    "plt.show()"
   ]
  },
  {
   "cell_type": "markdown",
   "metadata": {},
   "source": [
    "The scores for \"Noizu - Dance\", a moderately played song, are distributed as follows:"
   ]
  },
  {
   "cell_type": "code",
   "execution_count": 25,
   "metadata": {},
   "outputs": [
    {
     "data": {
      "image/png": "[encoded data removed]",
      "text/plain": [
       "<Figure size 432x288 with 1 Axes>"
      ]
     },
     "metadata": {
      "needs_background": "light"
     },
     "output_type": "display_data"
    }
   ],
   "source": [
    "vals = song_song_co_dict['Noizu - Dance'].values()\n",
    "total = sum(vals)\n",
    "sm = 0\n",
    "sms = []\n",
    "for i,val in enumerate(sorted(vals,reverse=True)):\n",
    "    sm += val\n",
    "    sms.append(sm)\n",
    "plt.plot(range(len(vals)),sorted(vals,reverse=True))\n",
    "plt.show()"
   ]
  },
  {
   "cell_type": "markdown",
   "metadata": {},
   "source": [
    "This noise means that the sparse matrix storing the co-occurrence matrix has a much larger memory footprint, as the number of non-zero elements is high. Due to Tensorflow GPU memory restrictions in sparse matrix multiplication, this will cause problems in training our models. To reduce this noise, we will set thresholds on the co-occurrence scores to be included in the final co-occurrence matrix. However, as the above distributions shows, the value of the threshold will be dependent on each song, as a high threshold might exclude too much for songs played less frequently. We will therefore set the threshold score so that at least 60% of the total co-occurrence information is retained for each song. By this method, we retain the most valuable 60% of total co-occurrence information, but reduce the number of non-zero elements in the sparse matrix from 4,544,472 to 1,739,847, a memory reduction to 38% of the original footprint. We will also log-scale the co-occurrence scores; in this case, we add 1 and take log base 2. \n",
    "\n",
    "The matrix will again be created as a scipy sparse matrix and saved as a .pkl file."
   ]
  },
  {
   "cell_type": "code",
   "execution_count": 26,
   "metadata": {},
   "outputs": [
    {
     "name": "stdout",
     "output_type": "stream",
     "text": [
      "running\n"
     ]
    }
   ],
   "source": [
    "print('running')\n",
    "row_ss = []\n",
    "col_ss = []\n",
    "data_ss = []\n",
    "for song in song_song_co_dict:\n",
    "    song_ind = song_ind_dict[song]\n",
    "    song_dict = song_song_co_dict[song]\n",
    "    \n",
    "    song_dict_total = sum(song_dict.values())\n",
    "\n",
    "    sm = 0\n",
    "    for i,val in enumerate(sorted(song_dict.values(),reverse=True)):\n",
    "        sm += val\n",
    "        if sm > 0.6*song_dict_total:\n",
    "            thresh_val = val\n",
    "            break\n",
    "            \n",
    "    for song_2 in song_dict:\n",
    "        song_2_ind = song_ind_dict[song_2]\n",
    "        val = song_dict[song_2]\n",
    "        if val >= thresh_val:\n",
    "            row_ss.append(song_ind)\n",
    "            col_ss.append(song_2_ind)\n",
    "            data_ss.append(np.log(1+val)/np.log(math.e/2))\n",
    "            \n",
    "song_song_sparse = csr_matrix((data_ss,(row_ss,col_ss)))\n",
    "\n",
    "with open('Sparse Matrices v2/song_song_sparse.pkl','wb') as f:\n",
    "    pickle.dump(song_song_sparse,f)"
   ]
  },
  {
   "cell_type": "markdown",
   "metadata": {},
   "source": [
    "We follow a similar process for the artist-artist co-occurrence matrix. There is more low-value noise in the artist matrix, as can be seen by the distributions for FISHER and Noizu:"
   ]
  },
  {
   "cell_type": "code",
   "execution_count": 27,
   "metadata": {},
   "outputs": [
    {
     "data": {
      "image/png": "[encoded data removed]",
      "text/plain": [
       "<Figure size 432x288 with 1 Axes>"
      ]
     },
     "metadata": {
      "needs_background": "light"
     },
     "output_type": "display_data"
    }
   ],
   "source": [
    "vals = artist_artist_co_dict['FISHER'].values()\n",
    "total = sum(vals)\n",
    "sm = 0\n",
    "sms = []\n",
    "for i,val in enumerate(sorted(vals,reverse=True)):\n",
    "    sm += val\n",
    "    sms.append(sm)\n",
    "plt.plot(range(1,len(vals)),sorted(vals,reverse=True)[1:])\n",
    "plt.show()"
   ]
  },
  {
   "cell_type": "code",
   "execution_count": 28,
   "metadata": {},
   "outputs": [
    {
     "data": {
      "image/png": "[encoded data removed]",
      "text/plain": [
       "<Figure size 432x288 with 1 Axes>"
      ]
     },
     "metadata": {
      "needs_background": "light"
     },
     "output_type": "display_data"
    }
   ],
   "source": [
    "vals = artist_artist_co_dict['Noizu'].values()\n",
    "total = sum(vals)\n",
    "sm = 0\n",
    "sms = []\n",
    "for i,val in enumerate(sorted(vals,reverse=True)):\n",
    "    sm += val\n",
    "    sms.append(sm)\n",
    "plt.plot(range(1,len(vals)),sorted(vals,reverse=True)[1:])\n",
    "plt.show()"
   ]
  },
  {
   "cell_type": "markdown",
   "metadata": {},
   "source": [
    "We can therefore set the threshold slightly higher, at 80%, and achieve a similar memory reduction, moving from 7,321,799 nonzero elements to 2,645,883, 36% of the original value. Log-scaling is performed using the natural log."
   ]
  },
  {
   "cell_type": "code",
   "execution_count": 29,
   "metadata": {},
   "outputs": [
    {
     "name": "stdout",
     "output_type": "stream",
     "text": [
      "running\n"
     ]
    }
   ],
   "source": [
    "print('running')\n",
    "row_aa = []\n",
    "col_aa = []\n",
    "data_aa = []\n",
    "for artist_1 in artist_artist_co_dict:\n",
    "    artist_1_ind = artist_ind_dict[artist_1]\n",
    "    artist_1_dict = artist_artist_co_dict[artist_1]\n",
    "    artist_dict_total = sum(artist_1_dict.values())\n",
    "    sm = 0\n",
    "    for i,val in enumerate(sorted(artist_1_dict.values(),reverse=True)):\n",
    "        sm += val\n",
    "        if sm > 0.8*artist_dict_total:\n",
    "            thresh_val = val\n",
    "            break    \n",
    "    for artist_2 in artist_1_dict:\n",
    "        artist_2_ind = artist_ind_dict[artist_2]\n",
    "        score = artist_1_dict[artist_2]\n",
    "        if score >= thresh_val:\n",
    "            row_aa.append(artist_1_ind)\n",
    "            col_aa.append(artist_2_ind)\n",
    "            data_aa.append(np.log(1+score))\n",
    "            \n",
    "artist_artist_sparse = csr_matrix((data_aa,(row_aa,col_aa)))\n",
    "\n",
    "with open('Sparse Matrices v2/artist_artist_sparse.pkl','wb') as f:\n",
    "    pickle.dump(artist_artist_sparse,f)"
   ]
  },
  {
   "cell_type": "markdown",
   "metadata": {},
   "source": [
    "The song-artist matrix is slightly more complex, as both artist and song thresholds must be taken into consideration. This matrix is more dense, and the score distributions in this matrix also has a fatter tail for less popular songs:"
   ]
  },
  {
   "cell_type": "code",
   "execution_count": 30,
   "metadata": {},
   "outputs": [
    {
     "data": {
      "image/png": "[encoded data removed]",
      "text/plain": [
       "<Figure size 432x288 with 1 Axes>"
      ]
     },
     "metadata": {
      "needs_background": "light"
     },
     "output_type": "display_data"
    }
   ],
   "source": [
    "vals = song_artist_co_dict['Noizu - Dance'].values()\n",
    "total = sum(vals)\n",
    "sm = 0\n",
    "sms = []\n",
    "for i,val in enumerate(sorted(vals,reverse=True)):\n",
    "    sm += val\n",
    "    sms.append(sm)\n",
    "plt.plot(range(1,len(vals)),sorted(vals,reverse=True)[1:])\n",
    "plt.show()"
   ]
  },
  {
   "cell_type": "code",
   "execution_count": 31,
   "metadata": {},
   "outputs": [
    {
     "data": {
      "image/png": "[encoded data removed]",
      "text/plain": [
       "<Figure size 432x288 with 1 Axes>"
      ]
     },
     "metadata": {
      "needs_background": "light"
     },
     "output_type": "display_data"
    }
   ],
   "source": [
    "vals = song_artist_co_dict['MPH - Deja Vu'].values()\n",
    "total = sum(vals)\n",
    "sm = 0\n",
    "sms = []\n",
    "for i,val in enumerate(sorted(vals,reverse=True)):\n",
    "    sm += val\n",
    "    sms.append(sm)\n",
    "plt.plot(range(1,len(vals)),sorted(vals,reverse=True)[1:])\n",
    "plt.show()"
   ]
  },
  {
   "cell_type": "markdown",
   "metadata": {},
   "source": [
    "The thresholds for both song and artist are set at 60%. We first create a transposed version of the song-artist co-occurrence matrix, and calculate the threshold value for each artist. "
   ]
  },
  {
   "cell_type": "code",
   "execution_count": 32,
   "metadata": {},
   "outputs": [
    {
     "name": "stdout",
     "output_type": "stream",
     "text": [
      "running\n"
     ]
    }
   ],
   "source": [
    "print('running')\n",
    "artist_song_co_dict = {}\n",
    "for artist in artist_lst:\n",
    "    artist_song_co_dict[artist] = {}\n",
    "    \n",
    "    \n",
    "for song in song_lst:\n",
    "    song_artist_co_single = song_artist_co_dict[song]\n",
    "    for artist in song_artist_co_single:\n",
    "        artist_song_co_dict[artist][song] = song_artist_co_single[artist]\n",
    "        \n",
    "artist_song_co_thresh = {}\n",
    "for artist in artist_lst:\n",
    "    artist_dict = artist_song_co_dict[artist]\n",
    "    artist_song_co_total = sum(artist_dict.values())\n",
    "\n",
    "    sm = 0\n",
    "    for i,val in enumerate(sorted(artist_dict.values(),reverse=True)):\n",
    "        sm += val\n",
    "        if sm > 0.5*artist_song_co_total:\n",
    "            thresh_val = val\n",
    "            break\n",
    "    artist_song_co_thresh[artist] = thresh_val"
   ]
  },
  {
   "cell_type": "markdown",
   "metadata": {},
   "source": [
    "We then perform the same process as for the other matrices, except we set the threshold value at the minimum of the song threshold and the artist threshold. This reduces the number of nonzero elements from 6,795,862 to 2,077,447, 31% of the original memory footprint."
   ]
  },
  {
   "cell_type": "code",
   "execution_count": 33,
   "metadata": {},
   "outputs": [
    {
     "name": "stdout",
     "output_type": "stream",
     "text": [
      "running\n"
     ]
    }
   ],
   "source": [
    "print('running')\n",
    "row_sa = []\n",
    "col_sa = []\n",
    "data_sa = []\n",
    "for song in song_artist_co_dict:\n",
    "    song_ind = song_ind_dict[song]\n",
    "    song_dict = song_artist_co_dict[song]\n",
    "    song_dict_total = sum(song_dict.values())\n",
    "    \n",
    "    sm = 0\n",
    "    for i,val in enumerate(sorted(song_dict.values(),reverse=True)):\n",
    "        sm += val\n",
    "        if sm > 0.5*song_dict_total:\n",
    "            thresh_val = val\n",
    "            break\n",
    "    \n",
    "    for artist in song_dict:\n",
    "        artist_ind = artist_ind_dict[artist]\n",
    "        artist_dict_thresh = artist_song_co_thresh[artist]\n",
    "        \n",
    "        thresh = np.min([thresh_val,artist_dict_thresh])\n",
    "        val = song_dict[artist]\n",
    "        if val >= thresh:\n",
    "            row_sa.append(song_ind)\n",
    "            col_sa.append(artist_ind)\n",
    "            data_sa.append(np.log(1+val))\n",
    "            \n",
    "song_artist_sparse = csr_matrix((data_sa,(row_sa,col_sa)))\n",
    "\n",
    "with open('Sparse Matrices v2/song_artist_sparse.pkl','wb') as f:\n",
    "    pickle.dump(song_artist_sparse,f)"
   ]
  },
  {
   "cell_type": "markdown",
   "metadata": {},
   "source": [
    "### Users\n",
    "We will now create a sparse matrix containing the 'click matrix' for the user-song selections created above, using the log of the count as a score. We first create a user-index map and a dictionary of associated users for each song."
   ]
  },
  {
   "cell_type": "code",
   "execution_count": 34,
   "metadata": {},
   "outputs": [],
   "source": [
    "user_ind_dict = {}\n",
    "for i,user in enumerate(user_lst):\n",
    "    user_ind_dict[user] = i\n",
    "    \n",
    "song_user_dict = {}\n",
    "for song in song_lst:\n",
    "    song_user_dict[song] = {}\n",
    "    \n",
    "for user in user_lst:\n",
    "    user_dict = user_selection_full[user]\n",
    "    for i,song_ind in enumerate(user_dict['Songs']):\n",
    "        song_user_dict[song_lst[song_ind]][user] = user_dict['Scores'][i]"
   ]
  },
  {
   "cell_type": "markdown",
   "metadata": {},
   "source": [
    "We now create the sparse click matrix. It will be useful down the line to have versions of this matrix scaled by user and scaled by song, so we create both now."
   ]
  },
  {
   "cell_type": "code",
   "execution_count": 35,
   "metadata": {},
   "outputs": [],
   "source": [
    "row_us = []\n",
    "col_us = []\n",
    "data_us = []\n",
    "for user in user_selection_full:\n",
    "    user_ind = user_ind_dict[user]\n",
    "    user_dict = user_selection_full[user]\n",
    "    user_scores = user_dict['Scores']\n",
    "    user_total = np.sum(user_scores)\n",
    "    for i,song_ind in enumerate(user_dict['Songs']):\n",
    "        row_us.append(user_ind)\n",
    "        col_us.append(song_ind)\n",
    "        data_us.append(user_scores[i]/user_total)\n",
    "        \n",
    "user_song_sparse_scaled_user = csr_matrix((data_us,(row_us,col_us)))\n",
    "\n",
    "with open('Sparse Matrices v2/user_song_sparse_scaled_user.pkl','wb') as f:\n",
    "    pickle.dump(user_song_sparse_scaled_user,f)\n",
    "\n",
    "row_su = []\n",
    "col_su = []\n",
    "data_su = []\n",
    "for song in song_lst:\n",
    "    song_ind = song_ind_dict[song]\n",
    "    song_dict = song_user_dict[song]\n",
    "    song_total = sum(song_dict.values())\n",
    "    for user in song_dict:\n",
    "        user_ind = user_ind_dict[user]\n",
    "        row_su.append(user_ind)\n",
    "        col_su.append(song_ind)\n",
    "        data_su.append(song_dict[user]/song_total)\n",
    "        \n",
    "user_song_sparse_scaled_song = csr_matrix((data_su,(row_su,col_su)))\n",
    "\n",
    "with open('Sparse Matrices v2/user_song_sparse_scaled_song.pkl','wb') as f:\n",
    "    pickle.dump(user_song_sparse_scaled_song,f)"
   ]
  },
  {
   "cell_type": "markdown",
   "metadata": {},
   "source": [
    "We also want to create similar click matrices for users and artists. The user-scaled matrix can be created by a simple matrix multiplication with the song-artist map:"
   ]
  },
  {
   "cell_type": "code",
   "execution_count": 36,
   "metadata": {},
   "outputs": [],
   "source": [
    "user_artist_sparse_scaled_user = user_song_sparse_scaled_user @ song_artist_map_sparse\n",
    "\n",
    "with open('Sparse Matrices v2/user_artist_sparse_scaled_user.pkl','wb') as f:\n",
    "    pickle.dump(user_artist_sparse_scaled_user,f)\n"
   ]
  },
  {
   "cell_type": "markdown",
   "metadata": {},
   "source": [
    "While the artist-scaled matrix is created with the transposed version of the song-artist map created above:"
   ]
  },
  {
   "cell_type": "code",
   "execution_count": 37,
   "metadata": {},
   "outputs": [],
   "source": [
    "row_au = []\n",
    "col_au = []\n",
    "data_au = []\n",
    "for artist in artist_lst:\n",
    "    artist_song_map = {}\n",
    "    artist_song_map_full = artist_song_map_dict[artist]\n",
    "    for song in artist_song_map_full:\n",
    "        if song_user_dict[song]!={}:\n",
    "            artist_song_map[song] = artist_song_map_full[song]\n",
    "    artist_map_total = sum(artist_song_map.values())\n",
    "    artist_ind = artist_ind_dict[artist]\n",
    "    for song in artist_song_map:\n",
    "        song_dict = song_user_dict[song]\n",
    "        song_total = sum(song_dict.values())\n",
    "        for user in song_dict:\n",
    "            user_ind = user_ind_dict[user]\n",
    "            row_au.append(user_ind)\n",
    "            col_au.append(artist_ind)\n",
    "            data_au.append(artist_song_map[song]/(artist_map_total*song_total))\n",
    "            \n",
    "user_artist_sparse_scaled_artist = csr_matrix((data_au,(row_au,col_au)))\n",
    "\n",
    "with open('Sparse Matrices v2/user_artist_sparse_scaled_artist.pkl','wb') as f:\n",
    "    pickle.dump(user_artist_sparse_scaled_artist,f)"
   ]
  },
  {
   "cell_type": "markdown",
   "metadata": {},
   "source": [
    "For the graph algorithms used to generate our embeddings, we will need an adjacency matrix for the users. Following the suggestion in Sun et al.'s [Multi-Graph Convolution Collaborative Filtering (2020)](https://arxiv.org/abs/2001.00267), we create this by taking the cosine similarity of the user-song click matrix. To do this, we first create a dense version of the click matrix, then use sklearn's cosine similarity function. We save the result as a pickled numpy array."
   ]
  },
  {
   "cell_type": "code",
   "execution_count": 38,
   "metadata": {},
   "outputs": [],
   "source": [
    "id_mat = np.identity(31214)\n",
    "user_selection_vecs = [np.sum(\n",
    "    id_mat[user_selection_full[user]['Songs']],axis=0) for user in user_lst]"
   ]
  },
  {
   "cell_type": "code",
   "execution_count": 39,
   "metadata": {},
   "outputs": [],
   "source": [
    "user_selection_mat = np.stack(user_selection_vecs).astype(np.float32)+1e-20\n",
    "\n",
    "from sklearn.metrics.pairwise import cosine_similarity\n",
    "user_adj = cosine_similarity(user_selection_mat)"
   ]
  },
  {
   "cell_type": "code",
   "execution_count": 40,
   "metadata": {},
   "outputs": [],
   "source": [
    "with open('Sparse Matrices v2/user_adj.pkl','wb') as f:\n",
    "    pickle.dump(user_adj,f)\n",
    "    \n",
    "with open('Sparse Matrices v2/user_selection_mat_sparse.pkl','wb') as f:\n",
    "    pickle.dump(csr_matrix(user_selection_mat),f)"
   ]
  },
  {
   "cell_type": "markdown",
   "metadata": {},
   "source": [
    "Finally, we save the song, artist, and user lists for future reference."
   ]
  },
  {
   "cell_type": "code",
   "execution_count": 41,
   "metadata": {},
   "outputs": [],
   "source": [
    "with open('Sparse Matrices v2/song_lst.pkl','wb') as f:\n",
    "    pickle.dump(song_lst,f)\n",
    "    \n",
    "with open('Sparse Matrices v2/artist_lst.pkl','wb') as f:\n",
    "    pickle.dump(artist_lst,f)\n",
    "    \n",
    "with open('Sparse Matrices v2/user_lst.pkl','wb') as f:\n",
    "    pickle.dump(user_lst,f)"
   ]
  }
 ],
 "metadata": {
  "kernelspec": {
   "display_name": "py37_tensorflow",
   "language": "python",
   "name": "conda-env-py37_tensorflow-py"
  },
  "language_info": {
   "codemirror_mode": {
    "name": "ipython",
    "version": 3
   },
   "file_extension": ".py",
   "mimetype": "text/x-python",
   "name": "python",
   "nbconvert_exporter": "python",
   "pygments_lexer": "ipython3",
   "version": "3.7.7"
  },
  "varInspector": {
   "cols": {
    "lenName": 16,
    "lenType": 16,
    "lenVar": 40
   },
   "kernels_config": {
    "python": {
     "delete_cmd_postfix": "",
     "delete_cmd_prefix": "del ",
     "library": "var_list.py",
     "varRefreshCmd": "print(var_dic_list())"
    },
    "r": {
     "delete_cmd_postfix": ") ",
     "delete_cmd_prefix": "rm(",
     "library": "var_list.r",
     "varRefreshCmd": "cat(var_dic_list()) "
    }
   },
   "types_to_exclude": [
    "module",
    "function",
    "builtin_function_or_method",
    "instance",
    "_Feature"
   ],
   "window_display": false
  }
 },
 "nbformat": 4,
 "nbformat_minor": 4
}
